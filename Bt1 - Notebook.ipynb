{
 "cells": [
  {
   "cell_type": "markdown",
   "id": "63b1e1c1",
   "metadata": {},
   "source": [
    "# Nguyễn Tấn Trung Dũng - 060206000031 "
   ]
  },
  {
   "cell_type": "code",
   "execution_count": null,
   "id": "db4a899c",
   "metadata": {},
   "outputs": [],
   "source": [
    "234"
   ]
  },
  {
   "cell_type": "code",
   "execution_count": 16,
   "id": "e6ea8a2c",
   "metadata": {},
   "outputs": [
    {
     "name": "stdout",
     "output_type": "stream",
     "text": [
      "Hello world! Tôi là Nguyễn Tấn Trung Dũng\n"
     ]
    }
   ],
   "source": [
    "print('Hello world! Tôi là Nguyễn Tấn Trung Dũng')"
   ]
  },
  {
   "cell_type": "code",
   "execution_count": 15,
   "id": "f6ca033f",
   "metadata": {},
   "outputs": [
    {
     "name": "stdout",
     "output_type": "stream",
     "text": [
      "Hello world! Tôi là Nguyễn Tấn Trung Dũng\n"
     ]
    }
   ],
   "source": [
    "string = \"Hello world! \"\n",
    "name = \"Tôi là Nguyễn Tấn Trung Dũng\"\n",
    "print(string + name)"
   ]
  }
 ],
 "metadata": {
  "kernelspec": {
   "display_name": "Python 3",
   "language": "python",
   "name": "python3"
  },
  "language_info": {
   "codemirror_mode": {
    "name": "ipython",
    "version": 3
   },
   "file_extension": ".py",
   "mimetype": "text/x-python",
   "name": "python",
   "nbconvert_exporter": "python",
   "pygments_lexer": "ipython3",
   "version": "3.13.7"
  }
 },
 "nbformat": 4,
 "nbformat_minor": 5
}
