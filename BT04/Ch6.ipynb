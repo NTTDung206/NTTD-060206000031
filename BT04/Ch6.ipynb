{
 "cells": [
  {
   "cell_type": "code",
   "execution_count": null,
   "id": "5da4f24c",
   "metadata": {},
   "outputs": [
    {
     "name": "stdout",
     "output_type": "stream",
     "text": [
      "0.8475\n"
     ]
    }
   ],
   "source": [
    "#Exercise 5:\n",
    "\n",
    "str = 'X-DSPAM-Confidence:0.8475'\n",
    "f = str.find(':')#tìm vị trí của dấu ':' (thứ 18) lệnh ra cho ra số (int). Nếu làm số 0 dễ sai nếu số có đổi\n",
    "slic = str[(f+1):]#vì lệnh trên cho ra int nên cộng thêm 1 được và để bắt đầu từ số 0 \n",
    "num = float(slic)#cắt ra xong chỉnh sang float\n",
    "print(num)"
   ]
  },
  {
   "cell_type": "code",
   "execution_count": null,
   "id": "c89ddd10",
   "metadata": {},
   "outputs": [
    {
     "name": "stdout",
     "output_type": "stream",
     "text": [
      "TRUNG DŨNG\n",
      "Trung dũng\n",
      "trung dũng\n",
      "-------------------------------------------------------Trung Dũng-------------------------------------------------------\n",
      "1\n"
     ]
    }
   ],
   "source": [
    "#Exercise 6:\n",
    "\n",
    "str = 'Trung Dũng'\n",
    "\n",
    "#str.upper()\n",
    "print(str.upper()) #Viết Hoa chữ cái đầu\n",
    "\n",
    "#str.capitalize()\n",
    "print(str.capitalize()) #Viết Hoa chữ cái đầu\n",
    "\n",
    "#str.casefold()\n",
    "print(str.casefold()) #Viết thường xịn hơn lower() cho kí tự đặc biệt\n",
    "\n",
    "#str.center(width[, fillchar])\n",
    "print(str.center(120, '-')) #Căn giữa tuỳ chỉnh và có thể thêm kí tự vào chỗ trống\n",
    "\n",
    "#str.count(sub[, start[, end]])\n",
    "print(str.count('ru', 0, 5)) #đếm số lượng kí tự"
   ]
  },
  {
   "cell_type": "code",
   "execution_count": null,
   "id": "151ccbdc",
   "metadata": {},
   "outputs": [
    {
     "name": "stdout",
     "output_type": "stream",
     "text": [
      "b'Xin Ch\\xc3\\xa0o'\n",
      "b'Xin Ch\\xc3\\xa0o'\n",
      "b'Xin Ch\\xc3\\xa0o'\n",
      "b'Xin Cho'\n",
      "b'Xin Ch?o'\n",
      "b'Xin Ch&#224;o'\n",
      "b'Xin Ch\\\\xe0o'\n"
     ]
    }
   ],
   "source": [
    "#str.encode(encoding=\"utf-8\", errors=\"strict\") \n",
    "str = 'Xin Chào' # mã hoá sang dạng bytes\n",
    "print(str.encode())\n",
    "print(str.encode(encoding=\"utf-8\"))\n",
    "print(str.encode(encoding=\"utf-8\", errors=\"strict\"))\n",
    "print(str.encode(encoding=\"ascii\", errors=\"ignore\"))\n",
    "print(str.encode(encoding=\"ascii\", errors=\"replace\"))\n",
    "print(str.encode(encoding=\"ascii\", errors=\"xmlcharrefreplace\"))\n",
    "print(str.encode(encoding=\"ascii\", errors=\"backslashreplace\"))\n"
   ]
  },
  {
   "cell_type": "code",
   "execution_count": null,
   "id": "e674b0ca",
   "metadata": {},
   "outputs": [
    {
     "name": "stdout",
     "output_type": "stream",
     "text": [
      "01      012     0123    01234\n",
      "01  012 0123    01234\n"
     ]
    }
   ],
   "source": [
    "#endswith(suffix[, start[, end]]) kiểm tra chuỗi trong chổi con dùng trong file , website\n",
    "\n",
    "#str.expandtabs(tabsize=8)\n",
    "print('01\\t012\\t0123\\t01234'.expandtabs()) #chuyển các \\t (tab) thành cách khoảng trắng\n",
    "\n",
    "print('01\\t012\\t0123\\t01234'.expandtabs(4)) \n",
    "#(số) là khoảng cách tính luôn những con số trong st\n",
    "#[4 khoảng cách] 01(2 khoảng cách) 012(1 khoảng cách) 0123(4 khoảng cách) "
   ]
  },
  {
   "cell_type": "code",
   "execution_count": null,
   "id": "9b68ba5d",
   "metadata": {},
   "outputs": [
    {
     "name": "stdout",
     "output_type": "stream",
     "text": [
      "1\n",
      "True\n",
      "1\n"
     ]
    },
    {
     "data": {
      "text/plain": [
       "'tích của 7 + 4 bằng 28 là kểt quả đúng'"
      ]
     },
     "execution_count": 52,
     "metadata": {},
     "output_type": "execute_result"
    }
   ],
   "source": [
    "#str.find(sub[, start[, end]])\n",
    "print('bahaimot'.find('a')) #xác định vị tri của ký tự hoặc chữ đầu tiên(trái sang phải)\n",
    "#str.rfind()\n",
    "print('bahaimot'.rfind('a')) #xác định vị tri của ký tự hoặc chữ đầu tiên (phải sang trái)\n",
    "#Nếu không có trả về -1\n",
    "\n",
    "\n",
    "print('ba' in 'bahaimot') #kiểm tra chữ đó có trong str không bằng lệnh 'in'\n",
    "\n",
    "    \n",
    "#str.index(sub[, start[, end]]) \n",
    "print('bahaimot'.index('a')) #tương tự find\n",
    "#str.rindex()\n",
    "print('bahaimot'.rindex('a')) #tương tự rfind\n",
    "#Nếu không có gây ra lỗi ValueError\n",
    "\n",
    "#str.startswith(prefix[, start[, end]])\n",
    "#trả về True nếu chuỗi bắt đầu bằng chuỗi con đã được chỉ định, ngược lại trả về False.\n",
    "#kết hợp cấu hàm if ok\n",
    "\n",
    "#str.format(*args, **kwargs)\n",
    "'tích của 7 + 4 bằng {0} {1}'.format(7*4, 'là kểt quả đúng') # ghép str với str khác theo thứ tự "
   ]
  },
  {
   "cell_type": "code",
   "execution_count": null,
   "id": "f2bacf6b",
   "metadata": {},
   "outputs": [],
   "source": [
    "#str.isalnum() true nếu có cả chữ và số, false nếu có kí tự đặc biệt bao gồm dấu cách\n",
    "#str.isalpha() true nếu tất cả ký tự trong chuỗi là chữ cái, false nếu có kí tự đặc biệt bao gồm dấu cách\n",
    "#str.isdecimal() true nếu tất cả ký tự trong chuỗi là số thập phân, false nếu có kí tự đặc biệt bao gồm dấu cách\n",
    "#str.isdigit() true nếu tất cả ký tự trong chuỗi là chữ số và đặc biệt khác\n",
    "#str.isnumeric() true nếu tất cả ký tự trong chuỗi là numeric\n",
    "#str.isspace() true nếu chuỗi chỉ chứa các ký tự khoảng \n",
    "#str.isprintable()\tTrả về True nếu tất cả các ký tự trong chuỗi đều có thể print được"
   ]
  },
  {
   "cell_type": "code",
   "execution_count": null,
   "id": "3e2dbcda",
   "metadata": {},
   "outputs": [
    {
     "name": "stdout",
     "output_type": "stream",
     "text": [
      "spacious \n"
     ]
    }
   ],
   "source": [
    "#str.partition(sep)  #Cắt chuỗi thành 3 phần đầu bằng kí tự Sep\n",
    "#str.rpartition(sep) #Cắt chuỗi thành 3 phần cuối  bằng kí tự Sep\n",
    "#str.rsplit(sep=None, maxsplit=-1) #Tách chuỗi thành danh sách\n",
    "\n",
    "#str.replace()\t#hay thế toàn bộ đoạn văn bản cũ bằng đoạn mới\n",
    "#str.ljust()\t#Căn trái chuỗi, Thêm ký tự đệm vào bên trái\n",
    "#str.rjust()\t#Căn phải chuỗi, Thêm ký tự đệm vào bên phải"
   ]
  },
  {
   "cell_type": "code",
   "execution_count": 66,
   "id": "20bfffee",
   "metadata": {},
   "outputs": [
    {
     "name": "stdout",
     "output_type": "stream",
     "text": [
      "dũngaa\n",
      "aadũng\n",
      "dũng\n"
     ]
    }
   ],
   "source": [
    "#str.lstrip([chars]) Loại bỏ các ký tự (bên trái) của chuỗi\n",
    "print('aadũngaa'.lstrip('a'))\n",
    "#str.rstrip([chars] Loại bỏ các ký tự (bên phải) của chuỗi\n",
    "print('aadũngaa'.rstrip('a'))\n",
    "#str.strip([chars])\tLoại bỏ các ký tự (trái và phải) của chuỗi cùng một lúc\n",
    "print('aadũngaa'.strip('a'))\n",
    "\n",
    "\n",
    "#str.split(sep=None, maxsplit=-1) Tách chuỗi thành một danh sách gồm nhiểu chuổi con\n",
    "#str.splitlines([keepends]) Tách chuỗi thành một danh sách nhiều dòng\n",
    "\n",
    "#str.zfill(width) lắp đầy khoảng trống để có cùng độ dài"
   ]
  }
 ],
 "metadata": {
  "kernelspec": {
   "display_name": "Python 3",
   "language": "python",
   "name": "python3"
  },
  "language_info": {
   "codemirror_mode": {
    "name": "ipython",
    "version": 3
   },
   "file_extension": ".py",
   "mimetype": "text/x-python",
   "name": "python",
   "nbconvert_exporter": "python",
   "pygments_lexer": "ipython3",
   "version": "3.13.7"
  }
 },
 "nbformat": 4,
 "nbformat_minor": 5
}
