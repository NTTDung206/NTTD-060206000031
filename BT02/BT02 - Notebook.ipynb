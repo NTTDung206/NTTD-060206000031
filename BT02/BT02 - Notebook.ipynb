{
 "cells": [
  {
   "cell_type": "code",
   "execution_count": null,
   "id": "52190b5c",
   "metadata": {},
   "outputs": [
    {
     "name": "stdout",
     "output_type": "stream",
     "text": [
      "Hello Chuck\n"
     ]
    }
   ],
   "source": [
    "# Exercise 2\n",
    "name = str(input('Enter your name:'))\n",
    "print('Enter your name:' , name)\n",
    "print('Hello' , name)"
   ]
  },
  {
   "cell_type": "code",
   "execution_count": null,
   "id": "2ce4a9be",
   "metadata": {},
   "outputs": [
    {
     "name": "stdout",
     "output_type": "stream",
     "text": [
      "Enter Hours: 25\n",
      "Enter Rate: 2.75\n",
      "Pay: 68.75\n"
     ]
    }
   ],
   "source": [
    "# Exercise 3\n",
    "Hours = int(input('Enter Hours:'))\n",
    "Rate = float(input('Enter Rate:'))\n",
    "Pay = Hours * Rate\n",
    "print('Enter Hours:' , Hours)\n",
    "print('Enter Rate:' , Rate)\n",
    "print('Pay:' , Pay)"
   ]
  },
  {
   "cell_type": "code",
   "execution_count": null,
   "id": "e243e160",
   "metadata": {},
   "outputs": [],
   "source": []
  }
 ],
 "metadata": {
  "kernelspec": {
   "display_name": "Python 3",
   "language": "python",
   "name": "python3"
  },
  "language_info": {
   "codemirror_mode": {
    "name": "ipython",
    "version": 3
   },
   "file_extension": ".py",
   "mimetype": "text/x-python",
   "name": "python",
   "nbconvert_exporter": "python",
   "pygments_lexer": "ipython3",
   "version": "3.13.7"
  }
 },
 "nbformat": 4,
 "nbformat_minor": 5
}
