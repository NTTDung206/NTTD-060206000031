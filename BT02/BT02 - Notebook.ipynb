{
 "cells": [
  {
   "cell_type": "code",
   "execution_count": null,
   "id": "51d6d446",
   "metadata": {},
   "outputs": [
    {
     "data": {
      "text/plain": [
       "6"
      ]
     },
     "execution_count": 1,
     "metadata": {},
     "output_type": "execute_result"
    }
   ],
   "source": [
    "5\n",
    "x = 5\n",
    "x + 1"
   ]
  },
  {
   "cell_type": "code",
   "execution_count": 2,
   "id": "52190b5c",
   "metadata": {},
   "outputs": [
    {
     "name": "stdout",
     "output_type": "stream",
     "text": [
      "Hello Chuck\n"
     ]
    }
   ],
   "source": [
    "# Exercise 2\n",
    "name = str(input('Enter your name:'))\n",
    "print('Hello' , name)"
   ]
  },
  {
   "cell_type": "code",
   "execution_count": 2,
   "id": "2ce4a9be",
   "metadata": {},
   "outputs": [
    {
     "name": "stdout",
     "output_type": "stream",
     "text": [
      "Enter Hours: 35\n",
      "Enter Rate: 2.75\n",
      "Pay: 96.25\n"
     ]
    }
   ],
   "source": [
    "# Exercise 3\n",
    "Hours = int(input('Enter Hours:'))\n",
    "Rate = float(input('Enter Rate:'))\n",
    "Pay = Hours * Rate\n",
    "print('Enter Hours:' , Hours)\n",
    "print('Enter Rate:' , Rate)\n",
    "print('Pay:' , Pay)"
   ]
  },
  {
   "cell_type": "code",
   "execution_count": 1,
   "id": "e243e160",
   "metadata": {},
   "outputs": [
    {
     "name": "stdout",
     "output_type": "stream",
     "text": [
      "a. value = 8 ; type = <class 'int'> \n",
      "\n",
      "\n",
      "b. value = 8.5 ; type = <class 'float'> \n",
      "\n",
      "\n",
      "c. value = 4.0 ; type = <class 'float'> \n",
      "\n",
      "\n",
      "d. value = 11 ; type = <class 'int'> \n",
      "\n",
      "\n"
     ]
    }
   ],
   "source": [
    "# Exercise 4\n",
    "#Em xin phép thầy dùng notebook jupyter và dùng print hiện các giá trị và kiểu giá trị\n",
    "#Cho dễ nhìn ạ nếu có sai mong thầy thông cảm ạ em cảm ơn\n",
    "width = 17\n",
    "height = 12.0\n",
    "# 1. width//2 (phép chia lấy phần nguyên (floor division))\n",
    "a = width//2  \n",
    "print('a. value =' , a , ';' , 'type =' , type(a) , '\\n\\n')\n",
    "# 2. width/2.0 (phép chia)\n",
    "b = width/2.0\n",
    "print('b. value =' , b , ';' , 'type =' , type(b) , '\\n\\n')\n",
    "# 3. height/3 (phép chia)\n",
    "c = height/3\n",
    "print('c. value =' , c , ';' , 'type =' , type(c) , '\\n\\n')\n",
    "# 4. 1 + 2 * 5 (* / trước + - sau)\n",
    "d = 1 + 2 * 5\n",
    "print('d. value =' , d , ';' , 'type =' , type(d) , '\\n\\n')"
   ]
  },
  {
   "cell_type": "code",
   "execution_count": 9,
   "id": "87a71b37",
   "metadata": {},
   "outputs": [
    {
     "name": "stdout",
     "output_type": "stream",
     "text": [
      "34 °C = 93.2 °F\n"
     ]
    }
   ],
   "source": [
    "# Exercise 5\n",
    "C = int(input('Enter celsius temperature:'))\n",
    "F = float(C * 9/5 + 32)\n",
    "print(C , '°C' , '=' , F , '°F')"
   ]
  }
 ],
 "metadata": {
  "kernelspec": {
   "display_name": "Python 3",
   "language": "python",
   "name": "python3"
  },
  "language_info": {
   "codemirror_mode": {
    "name": "ipython",
    "version": 3
   },
   "file_extension": ".py",
   "mimetype": "text/x-python",
   "name": "python",
   "nbconvert_exporter": "python",
   "pygments_lexer": "ipython3",
   "version": "3.13.7"
  }
 },
 "nbformat": 4,
 "nbformat_minor": 5
}
